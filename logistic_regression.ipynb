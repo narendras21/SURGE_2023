{
  "nbformat": 4,
  "nbformat_minor": 0,
  "metadata": {
    "colab": {
      "provenance": []
    },
    "kernelspec": {
      "name": "python3",
      "display_name": "Python 3"
    },
    "language_info": {
      "name": "python"
    }
  },
  "cells": [
    {
      "cell_type": "code",
      "execution_count": null,
      "metadata": {
        "id": "cAXfQaZiHbxd"
      },
      "outputs": [],
      "source": [
        "import torch\n",
        "import torch.nn as nn\n",
        "import numpy as np\n",
        "from sklearn import datasets\n",
        "from sklearn.preprocessing import StandardScaler\n",
        "from sklearn.model_selection import train_test_split\n",
        "import matplotlib.pyplot as plt"
      ]
    },
    {
      "cell_type": "code",
      "source": [
        "bc = datasets.load_breast_cancer()\n",
        "x, y = bc.data, bc.target"
      ],
      "metadata": {
        "id": "B6mUlywqHh_b"
      },
      "execution_count": null,
      "outputs": []
    },
    {
      "cell_type": "code",
      "source": [
        "n_samples, n_features = x.shape\n",
        "print(n_samples, n_features)"
      ],
      "metadata": {
        "colab": {
          "base_uri": "https://localhost:8080/"
        },
        "id": "hosa2MIgHiB-",
        "outputId": "21dce296-2bee-484b-d84d-10c8e3a2cb42"
      },
      "execution_count": null,
      "outputs": [
        {
          "output_type": "stream",
          "name": "stdout",
          "text": [
            "569 30\n"
          ]
        }
      ]
    },
    {
      "cell_type": "code",
      "source": [
        "x_train, x_test, y_train, y_test = train_test_split(x,y, test_size = 0.2, random_state = 1234)"
      ],
      "metadata": {
        "id": "SIbxOSzqHiEf"
      },
      "execution_count": null,
      "outputs": []
    },
    {
      "cell_type": "code",
      "source": [
        "sc = StandardScaler()\n",
        "x_train = sc.fit_transform(x_train)\n",
        "x_test = sc.fit_transform(x_test)\n"
      ],
      "metadata": {
        "id": "UwZvl7llHiHA"
      },
      "execution_count": null,
      "outputs": []
    },
    {
      "cell_type": "code",
      "source": [
        "x_train = torch.from_numpy(x_train.astype(np.float32))\n",
        "x_test = torch.from_numpy(x_test.astype(np.float32))\n",
        "y_train = torch.from_numpy(y_train.astype(np.float32))\n",
        "y_test = torch.from_numpy(y_test.astype(np.float32))\n",
        "\n"
      ],
      "metadata": {
        "id": "78_Sh9c8HiJZ"
      },
      "execution_count": null,
      "outputs": []
    },
    {
      "cell_type": "code",
      "source": [
        "y_train = y_train.view(-1,1)\n",
        "y_test = y_test.view(-1,1)"
      ],
      "metadata": {
        "id": "rYRoM-mdHiM0"
      },
      "execution_count": null,
      "outputs": []
    },
    {
      "cell_type": "code",
      "source": [
        "class LogisticRegression(nn.Module):\n",
        "  def __init__(self, n_input_features):\n",
        "    super(LogisticRegression, self).__init__()\n",
        "    self.linear = nn.Linear(n_input_features, 1)\n",
        "\n",
        "  def forward(self,x):\n",
        "    return torch.sigmoid(self.linear(x))"
      ],
      "metadata": {
        "id": "QKtfDN_oOWCi"
      },
      "execution_count": null,
      "outputs": []
    },
    {
      "cell_type": "code",
      "source": [
        "model = LogisticRegression(n_features)\n",
        "learning_rate = 0.003\n",
        "n_iterns = 1000800"
      ],
      "metadata": {
        "id": "L4UnmuF6OWFW"
      },
      "execution_count": null,
      "outputs": []
    },
    {
      "cell_type": "code",
      "source": [
        "loss = nn.BCELoss()\n",
        "optimizer = torch.optim.SGD(model.parameters(), lr = learning_rate)"
      ],
      "metadata": {
        "id": "o_3YbH5jOWIx"
      },
      "execution_count": null,
      "outputs": []
    },
    {
      "cell_type": "code",
      "source": [
        "for epoch in range(n_iterns):\n",
        "  y_pred = model(x_train)\n",
        "\n",
        "  l = loss(y_pred, y_train)\n",
        "\n",
        "  l.backward()\n",
        "\n",
        "  optimizer.step()\n",
        "\n",
        "  optimizer.zero_grad()\n",
        "\n",
        "  if epoch % 100000 == 0:\n",
        "    print(f'epoch :{epoch+1}, loss = {l.item():.5f}')\n",
        "\n"
      ],
      "metadata": {
        "colab": {
          "base_uri": "https://localhost:8080/"
        },
        "id": "Q36fUeJmkF1F",
        "outputId": "83ec003a-e943-4127-dca6-253022d2f8b3"
      },
      "execution_count": null,
      "outputs": [
        {
          "output_type": "stream",
          "name": "stdout",
          "text": [
            "epoch :1, loss = 0.88271\n",
            "epoch :100001, loss = 0.02996\n",
            "epoch :200001, loss = 0.02519\n",
            "epoch :300001, loss = 0.02284\n",
            "epoch :400001, loss = 0.02124\n",
            "epoch :500001, loss = 0.02000\n",
            "epoch :600001, loss = 0.01898\n",
            "epoch :700001, loss = 0.01809\n",
            "epoch :800001, loss = 0.01730\n",
            "epoch :900001, loss = 0.01659\n",
            "epoch :1000001, loss = 0.01596\n"
          ]
        }
      ]
    },
    {
      "cell_type": "code",
      "source": [
        "with torch.no_grad():\n",
        "  y_pred = model(x_test)\n",
        "  y_pred_cls = y_pred.round()\n",
        "  acc = y_pred_cls.eq(y_test).sum()/float(y_test.shape[0])\n",
        "  print(f'accuracy = {acc:.4f}')"
      ],
      "metadata": {
        "colab": {
          "base_uri": "https://localhost:8080/"
        },
        "id": "_RQ3zgZOkF4i",
        "outputId": "978b9e34-61be-405e-a122-9862560d8405"
      },
      "execution_count": null,
      "outputs": [
        {
          "output_type": "stream",
          "name": "stdout",
          "text": [
            "accuracy = 0.9649\n"
          ]
        }
      ]
    },
    {
      "cell_type": "code",
      "source": [],
      "metadata": {
        "id": "NLIQDjDjnobA"
      },
      "execution_count": null,
      "outputs": []
    }
  ]
}